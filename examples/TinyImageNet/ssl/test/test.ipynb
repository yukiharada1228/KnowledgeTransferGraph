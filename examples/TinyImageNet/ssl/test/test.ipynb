{
 "cells": [
  {
   "cell_type": "code",
   "execution_count": 1,
   "metadata": {},
   "outputs": [],
   "source": [
    "ssls = [\"SimCLR\", \n",
    "        \"MoCo\", \n",
    "        \"SimSiam\", \n",
    "        \"BYOL\", \n",
    "        \"SwAV\", \n",
    "        \"BarlowTwins\", \n",
    "        \"DINO\"]"
   ]
  },
  {
   "cell_type": "code",
   "execution_count": 2,
   "metadata": {},
   "outputs": [
    {
     "data": {
      "text/plain": [
       "[('SimCLR', 'MoCo'),\n",
       " ('SimCLR', 'SimSiam'),\n",
       " ('SimCLR', 'BYOL'),\n",
       " ('SimCLR', 'SwAV'),\n",
       " ('SimCLR', 'BarlowTwins'),\n",
       " ('SimCLR', 'DINO'),\n",
       " ('MoCo', 'SimSiam'),\n",
       " ('MoCo', 'BYOL'),\n",
       " ('MoCo', 'SwAV'),\n",
       " ('MoCo', 'BarlowTwins'),\n",
       " ('MoCo', 'DINO'),\n",
       " ('SimSiam', 'BYOL'),\n",
       " ('SimSiam', 'SwAV'),\n",
       " ('SimSiam', 'BarlowTwins'),\n",
       " ('SimSiam', 'DINO'),\n",
       " ('BYOL', 'SwAV'),\n",
       " ('BYOL', 'BarlowTwins'),\n",
       " ('BYOL', 'DINO'),\n",
       " ('SwAV', 'BarlowTwins'),\n",
       " ('SwAV', 'DINO'),\n",
       " ('BarlowTwins', 'DINO')]"
      ]
     },
     "execution_count": 2,
     "metadata": {},
     "output_type": "execute_result"
    }
   ],
   "source": [
    "from itertools import combinations\n",
    "list(combinations(ssls,2))"
   ]
  },
  {
   "cell_type": "code",
   "execution_count": 3,
   "metadata": {},
   "outputs": [
    {
     "data": {
      "text/plain": [
       "21"
      ]
     },
     "execution_count": 3,
     "metadata": {},
     "output_type": "execute_result"
    }
   ],
   "source": [
    "len(list(combinations(ssls,2)))"
   ]
  },
  {
   "cell_type": "code",
   "execution_count": null,
   "metadata": {},
   "outputs": [],
   "source": []
  }
 ],
 "metadata": {
  "kernelspec": {
   "display_name": "Python 3",
   "language": "python",
   "name": "python3"
  },
  "language_info": {
   "codemirror_mode": {
    "name": "ipython",
    "version": 3
   },
   "file_extension": ".py",
   "mimetype": "text/x-python",
   "name": "python",
   "nbconvert_exporter": "python",
   "pygments_lexer": "ipython3",
   "version": "3.10.12"
  }
 },
 "nbformat": 4,
 "nbformat_minor": 2
}
