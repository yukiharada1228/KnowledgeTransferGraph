{
 "cells": [
  {
   "cell_type": "code",
   "execution_count": 1,
   "metadata": {},
   "outputs": [],
   "source": [
    "from itertools import combinations_with_replacement"
   ]
  },
  {
   "cell_type": "code",
   "execution_count": 2,
   "metadata": {},
   "outputs": [],
   "source": [
    "ssls = [\"SimCLR\", \"MoCo\", \"SimSiam\", \"BYOL\", \"SwAV\", \"BarlowTwins\", \"DINO\"]\n",
    "gates = [\"ThroughGate\", \"PositiveLinearGate\", \"NegativeLinearGate\"]"
   ]
  },
  {
   "cell_type": "code",
   "execution_count": 6,
   "metadata": {},
   "outputs": [
    {
     "data": {
      "text/plain": [
       "[('DINO', 'SimCLR'),\n",
       " ('DINO', 'MoCo'),\n",
       " ('DINO', 'SimSiam'),\n",
       " ('DINO', 'BYOL'),\n",
       " ('DINO', 'SwAV'),\n",
       " ('DINO', 'BarlowTwins'),\n",
       " ('DINO', 'DINO')]"
      ]
     },
     "execution_count": 6,
     "metadata": {},
     "output_type": "execute_result"
    }
   ],
   "source": [
    "ssl_pairs = [(ssls[-1], ssl) for ssl in ssls]\n",
    "ssl_pairs"
   ]
  },
  {
   "cell_type": "code",
   "execution_count": 4,
   "metadata": {},
   "outputs": [
    {
     "data": {
      "text/plain": [
       "[('ThroughGate', 'ThroughGate'),\n",
       " ('ThroughGate', 'PositiveLinearGate'),\n",
       " ('ThroughGate', 'NegativeLinearGate'),\n",
       " ('PositiveLinearGate', 'PositiveLinearGate'),\n",
       " ('PositiveLinearGate', 'NegativeLinearGate'),\n",
       " ('NegativeLinearGate', 'NegativeLinearGate')]"
      ]
     },
     "execution_count": 4,
     "metadata": {},
     "output_type": "execute_result"
    }
   ],
   "source": [
    "gate_pairs = list(combinations_with_replacement(gates, 2))\n",
    "gate_pairs"
   ]
  },
  {
   "cell_type": "code",
   "execution_count": null,
   "metadata": {},
   "outputs": [],
   "source": []
  }
 ],
 "metadata": {
  "kernelspec": {
   "display_name": "Python 3",
   "language": "python",
   "name": "python3"
  },
  "language_info": {
   "codemirror_mode": {
    "name": "ipython",
    "version": 3
   },
   "file_extension": ".py",
   "mimetype": "text/x-python",
   "name": "python",
   "nbconvert_exporter": "python",
   "pygments_lexer": "ipython3",
   "version": "3.10.12"
  }
 },
 "nbformat": 4,
 "nbformat_minor": 2
}
