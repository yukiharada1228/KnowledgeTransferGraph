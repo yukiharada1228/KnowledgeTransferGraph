{
 "cells": [
  {
   "cell_type": "code",
   "execution_count": 1,
   "metadata": {},
   "outputs": [
    {
     "name": "stderr",
     "output_type": "stream",
     "text": [
      "/usr/local/lib/python3.10/dist-packages/tqdm/auto.py:21: TqdmWarning: IProgress not found. Please update jupyter and ipywidgets. See https://ipywidgets.readthedocs.io/en/stable/user_install.html\n",
      "  from .autonotebook import tqdm as notebook_tqdm\n"
     ]
    }
   ],
   "source": [
    "# Import packages\n",
    "import os\n",
    "import optuna\n",
    "from graphviz import Digraph\n",
    "from optuna.storages import JournalFileStorage, JournalStorage\n",
    "from tensorboard.backend.event_processing.event_accumulator import EventAccumulator\n",
    "import numpy as np"
   ]
  },
  {
   "cell_type": "code",
   "execution_count": 2,
   "metadata": {},
   "outputs": [
    {
     "name": "stderr",
     "output_type": "stream",
     "text": [
      "/tmp/ipykernel_2555883/1331392834.py:4: ExperimentalWarning: JournalStorage is experimental (supported from v3.1.0). The interface can change in the future.\n",
      "  storage = JournalStorage(JournalFileStorage(os.path.join(optuna_dir, \"optuna.log\")))\n",
      "[I 2024-05-09 12:28:41,833] Using an existing study with name 'bit_kd_2' instead of creating a new one.\n"
     ]
    }
   ],
   "source": [
    "num_nodes = 2\n",
    "study_name = f\"bit_kd_{num_nodes}\"\n",
    "optuna_dir = f\"optuna/{study_name}\"\n",
    "storage = JournalStorage(JournalFileStorage(os.path.join(optuna_dir, \"optuna.log\")))\n",
    "study = optuna.create_study(\n",
    "    storage=storage,\n",
    "    study_name=study_name,\n",
    "    load_if_exists=True,\n",
    ")"
   ]
  },
  {
   "cell_type": "code",
   "execution_count": 3,
   "metadata": {},
   "outputs": [],
   "source": [
    "study_df = study.trials_dataframe()\n",
    "complete_df = study_df[study_df.state == \"COMPLETE\"]\n",
    "sorted_df = complete_df.sort_values(by=\"value\", ascending=False)"
   ]
  },
  {
   "cell_type": "code",
   "execution_count": 4,
   "metadata": {},
   "outputs": [],
   "source": [
    "def extract_scalar_arrays(scalar_events):\n",
    "    wall_times = []\n",
    "    steps = []\n",
    "    values = []\n",
    "\n",
    "    for event in scalar_events:\n",
    "        wall_times.append(event.wall_time)\n",
    "        steps.append(event.step)\n",
    "        values.append(event.value)\n",
    "\n",
    "    return np.array(wall_times), np.array(steps), np.array(values)\n",
    "\n",
    "\n",
    "def get_node_name(top_series, model_id, models, gate_names_list):\n",
    "    accumulator = EventAccumulator(\n",
    "        f\"runs/{study_name}/{top_series.number:04}/{model_id}_{top_series[models[model_id]]}/\"\n",
    "    )\n",
    "    accumulator.Reload()\n",
    "    _, _, values = extract_scalar_arrays(accumulator.Scalars(\"test_top1\"))\n",
    "    gate_name = top_series[f\"params_{model_id}_{model_id}_gate\"]\n",
    "    if gate_name == \"CutoffGate\" and not all(\n",
    "        gate_name == \"CutoffGate\" for gate_name in gate_names_list[model_id]\n",
    "    ):\n",
    "        node_name = f\"{model_id+1}. {top_series[models[model_id]]}\"\n",
    "    else:\n",
    "        node_name = f\"{model_id+1}. {top_series[models[model_id]]}\"\n",
    "    node_name += f\"\\n{max(values):.2f}%\"\n",
    "    return node_name\n",
    "\n",
    "\n",
    "def get_edge_color(loss_name):\n",
    "    return {\"CELoss\": \"10\", \"KLLoss\": \"2\"}[loss_name]\n",
    "\n",
    "\n",
    "def create_graph(sorted_df, top):\n",
    "    top_series = sorted_df.iloc[top]\n",
    "    models = sorted(list(filter(lambda x: \"model\" in x, top_series.keys())))\n",
    "\n",
    "    gate_names_list = [\n",
    "        [top_series[f\"params_{model_id}_{j}_gate\"] for j, _ in enumerate(models)]\n",
    "        for model_id, _ in enumerate(models)\n",
    "    ]\n",
    "\n",
    "    graph = Digraph(format=\"svg\")\n",
    "    for model_id, _ in enumerate(models):\n",
    "        node_color = \"pink\" if model_id == 0 else \"gray90\"\n",
    "        node_name = get_node_name(top_series, model_id, models, gate_names_list)\n",
    "        graph.node(node_name, color=node_color, fillcolor=node_color, style=\"filled\")\n",
    "\n",
    "        for j, _ in enumerate(models):\n",
    "            gate_name = top_series[f\"params_{model_id}_{j}_gate\"]\n",
    "            if gate_name == \"CutoffGate\":\n",
    "                continue\n",
    "            if model_id == j:\n",
    "                loss_name = \"CELoss\"\n",
    "                label_node_name = f\"{model_id+1}. label\"\n",
    "                graph.node(\n",
    "                    label_node_name, label=\"Label\", color=\"white\", style=\"filled\"\n",
    "                )\n",
    "            else:\n",
    "                loss_name = \"KLLoss\"\n",
    "            neighbor_node_name = get_node_name(top_series, j, models, gate_names_list)\n",
    "            edge_color = get_edge_color(loss_name)\n",
    "            graph.edge(\n",
    "                neighbor_node_name if loss_name == \"KLLoss\" else label_node_name,\n",
    "                node_name,\n",
    "                label=loss_name,\n",
    "                fontsize=\"13\",\n",
    "                fontcolor=edge_color,\n",
    "                color=edge_color,\n",
    "                colorscheme=\"paired12\",\n",
    "            )\n",
    "\n",
    "        if all(gate_name == \"CutoffGate\" for gate_name in gate_names_list[model_id]):\n",
    "            graph.node(\n",
    "                node_name, color=\"lightblue\", fillcolor=\"lightblue\", style=\"filled\"\n",
    "            )\n",
    "    return graph"
   ]
  },
  {
   "cell_type": "code",
   "execution_count": 6,
   "metadata": {},
   "outputs": [
    {
     "data": {
      "image/svg+xml": [
       "<?xml version=\"1.0\" encoding=\"UTF-8\" standalone=\"no\"?>\n",
       "<!DOCTYPE svg PUBLIC \"-//W3C//DTD SVG 1.1//EN\"\n",
       " \"http://www.w3.org/Graphics/SVG/1.1/DTD/svg11.dtd\">\n",
       "<!-- Generated by graphviz version 2.43.0 (0)\n",
       " -->\n",
       "<!-- Title: %3 Pages: 1 -->\n",
       "<svg width=\"257pt\" height=\"165pt\"\n",
       " viewBox=\"0.00 0.00 257.38 165.48\" xmlns=\"http://www.w3.org/2000/svg\" xmlns:xlink=\"http://www.w3.org/1999/xlink\">\n",
       "<g id=\"graph0\" class=\"graph\" transform=\"scale(1 1) rotate(0) translate(4 161.48)\">\n",
       "<title>%3</title>\n",
       "<polygon fill=\"white\" stroke=\"transparent\" points=\"-4,4 -4,-161.48 253.38,-161.48 253.38,4 -4,4\"/>\n",
       "<!-- 1. bit_resnet32_b158\n",
       "42.46% -->\n",
       "<g id=\"node1\" class=\"node\">\n",
       "<title>1. bit_resnet32_b158\n",
       "42.46%</title>\n",
       "<ellipse fill=\"pink\" stroke=\"pink\" cx=\"118.09\" cy=\"-26.87\" rx=\"118.17\" ry=\"26.74\"/>\n",
       "<text text-anchor=\"middle\" x=\"118.09\" y=\"-30.67\" font-family=\"Times,serif\" font-size=\"14.00\">1. bit_resnet32_b158</text>\n",
       "<text text-anchor=\"middle\" x=\"118.09\" y=\"-15.67\" font-family=\"Times,serif\" font-size=\"14.00\">42.46%</text>\n",
       "</g>\n",
       "<!-- 1. label -->\n",
       "<g id=\"node2\" class=\"node\">\n",
       "<title>1. label</title>\n",
       "<ellipse fill=\"white\" stroke=\"white\" cx=\"56.09\" cy=\"-130.61\" rx=\"36.29\" ry=\"18\"/>\n",
       "<text text-anchor=\"middle\" x=\"56.09\" y=\"-126.91\" font-family=\"Times,serif\" font-size=\"14.00\">Label</text>\n",
       "</g>\n",
       "<!-- 1. label&#45;&gt;1. bit_resnet32_b158\n",
       "42.46% -->\n",
       "<g id=\"edge1\" class=\"edge\">\n",
       "<title>1. label&#45;&gt;1. bit_resnet32_b158\n",
       "42.46%</title>\n",
       "<path fill=\"none\" stroke=\"#6a3d9a\" d=\"M66.05,-113.26C74.38,-99.58 86.57,-79.6 97.05,-62.4\"/>\n",
       "<polygon fill=\"#6a3d9a\" stroke=\"#6a3d9a\" points=\"100.13,-64.07 102.34,-53.71 94.15,-60.42 100.13,-64.07\"/>\n",
       "<text text-anchor=\"middle\" x=\"116.09\" y=\"-75.34\" font-family=\"Times,serif\" font-size=\"13.00\" fill=\"#6a3d9a\">CELoss</text>\n",
       "</g>\n",
       "<!-- 2. resnet32\n",
       "68.80% -->\n",
       "<g id=\"node3\" class=\"node\">\n",
       "<title>2. resnet32\n",
       "68.80%</title>\n",
       "<ellipse fill=\"lightblue\" stroke=\"lightblue\" cx=\"180.09\" cy=\"-130.61\" rx=\"69.09\" ry=\"26.74\"/>\n",
       "<text text-anchor=\"middle\" x=\"180.09\" y=\"-134.41\" font-family=\"Times,serif\" font-size=\"14.00\">2. resnet32</text>\n",
       "<text text-anchor=\"middle\" x=\"180.09\" y=\"-119.41\" font-family=\"Times,serif\" font-size=\"14.00\">68.80%</text>\n",
       "</g>\n",
       "<!-- 2. resnet32\n",
       "68.80%&#45;&gt;1. bit_resnet32_b158\n",
       "42.46% -->\n",
       "<g id=\"edge2\" class=\"edge\">\n",
       "<title>2. resnet32\n",
       "68.80%&#45;&gt;1. bit_resnet32_b158\n",
       "42.46%</title>\n",
       "<path fill=\"none\" stroke=\"#1f78b4\" d=\"M164.8,-104.23C158.68,-94.11 151.57,-82.36 145.09,-71.74 143.26,-68.75 141.36,-65.64 139.45,-62.53\"/>\n",
       "<polygon fill=\"#1f78b4\" stroke=\"#1f78b4\" points=\"142.33,-60.52 134.11,-53.83 136.36,-64.18 142.33,-60.52\"/>\n",
       "<text text-anchor=\"middle\" x=\"176.59\" y=\"-75.34\" font-family=\"Times,serif\" font-size=\"13.00\" fill=\"#1f78b4\">KLLoss</text>\n",
       "</g>\n",
       "</g>\n",
       "</svg>\n"
      ],
      "text/plain": [
       "<graphviz.graphs.Digraph at 0x7f39276db4f0>"
      ]
     },
     "metadata": {},
     "output_type": "display_data"
    },
    {
     "data": {
      "text/plain": [
       "'bit-kd.svg'"
      ]
     },
     "execution_count": 6,
     "metadata": {},
     "output_type": "execute_result"
    }
   ],
   "source": [
    "top = 0\n",
    "G = create_graph(study_df, top)\n",
    "display(G)\n",
    "G.render(\"bit-kd\")"
   ]
  },
  {
   "cell_type": "code",
   "execution_count": null,
   "metadata": {},
   "outputs": [],
   "source": []
  }
 ],
 "metadata": {
  "kernelspec": {
   "display_name": "Python 3",
   "language": "python",
   "name": "python3"
  },
  "language_info": {
   "codemirror_mode": {
    "name": "ipython",
    "version": 3
   },
   "file_extension": ".py",
   "mimetype": "text/x-python",
   "name": "python",
   "nbconvert_exporter": "python",
   "pygments_lexer": "ipython3",
   "version": "3.10.12"
  }
 },
 "nbformat": 4,
 "nbformat_minor": 2
}
