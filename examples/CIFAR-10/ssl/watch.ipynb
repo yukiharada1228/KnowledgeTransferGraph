{
 "cells": [
  {
   "cell_type": "code",
   "execution_count": 12,
   "metadata": {},
   "outputs": [],
   "source": [
    "# Import packages\n",
    "import os\n",
    "import optuna\n",
    "import pandas as pd\n",
    "from graphviz import Digraph\n",
    "from optuna.storages import JournalFileStorage, JournalStorage"
   ]
  },
  {
   "cell_type": "code",
   "execution_count": 13,
   "metadata": {},
   "outputs": [
    {
     "name": "stderr",
     "output_type": "stream",
     "text": [
      "/tmp/ipykernel_3601290/847367711.py:4: ExperimentalWarning: JournalStorage is experimental (supported from v3.1.0). The interface can change in the future.\n",
      "  storage = JournalStorage(JournalFileStorage(os.path.join(optuna_dir, \"optuna.log\")))\n",
      "[I 2024-03-30 15:10:49,562] Using an existing study with name 'dcl_2' instead of creating a new one.\n"
     ]
    }
   ],
   "source": [
    "num_nodes = 2\n",
    "study_name = f\"dcl_{num_nodes}\"\n",
    "optuna_dir = f\"optuna/{study_name}\"\n",
    "storage = JournalStorage(JournalFileStorage(os.path.join(optuna_dir, \"optuna.log\")))\n",
    "study = optuna.create_study(\n",
    "    storage=storage,\n",
    "    study_name=study_name,\n",
    "    load_if_exists=True,\n",
    ")"
   ]
  },
  {
   "cell_type": "code",
   "execution_count": 14,
   "metadata": {},
   "outputs": [],
   "source": [
    "study_df = study.trials_dataframe()\n",
    "# complete_df = study_df[study_df.state == \"COMPLETE\"]\n",
    "complete_df = study_df\n",
    "sorted_df = complete_df.sort_values(by=\"value\", ascending=False)"
   ]
  },
  {
   "cell_type": "code",
   "execution_count": 15,
   "metadata": {},
   "outputs": [
    {
     "data": {
      "text/html": [
       "<div>\n",
       "<style scoped>\n",
       "    .dataframe tbody tr th:only-of-type {\n",
       "        vertical-align: middle;\n",
       "    }\n",
       "\n",
       "    .dataframe tbody tr th {\n",
       "        vertical-align: top;\n",
       "    }\n",
       "\n",
       "    .dataframe thead th {\n",
       "        text-align: right;\n",
       "    }\n",
       "</style>\n",
       "<table border=\"1\" class=\"dataframe\">\n",
       "  <thead>\n",
       "    <tr style=\"text-align: right;\">\n",
       "      <th></th>\n",
       "      <th>number</th>\n",
       "      <th>value</th>\n",
       "      <th>datetime_start</th>\n",
       "      <th>datetime_complete</th>\n",
       "      <th>duration</th>\n",
       "      <th>params_0_0_gate</th>\n",
       "      <th>params_0_0_loss</th>\n",
       "      <th>params_0_1_gate</th>\n",
       "      <th>params_0_1_loss</th>\n",
       "      <th>params_0_model</th>\n",
       "      <th>params_0_ssl</th>\n",
       "      <th>params_1_0_gate</th>\n",
       "      <th>params_1_0_loss</th>\n",
       "      <th>params_1_1_gate</th>\n",
       "      <th>params_1_1_loss</th>\n",
       "      <th>params_1_model</th>\n",
       "      <th>params_1_ssl</th>\n",
       "      <th>state</th>\n",
       "    </tr>\n",
       "  </thead>\n",
       "  <tbody>\n",
       "    <tr>\n",
       "      <th>0</th>\n",
       "      <td>0</td>\n",
       "      <td>None</td>\n",
       "      <td>2024-03-30 15:10:18.651981</td>\n",
       "      <td>None</td>\n",
       "      <td>None</td>\n",
       "      <td>CutoffGate</td>\n",
       "      <td>SSLLoss</td>\n",
       "      <td>CutoffGate</td>\n",
       "      <td>MSELoss</td>\n",
       "      <td>resnet18</td>\n",
       "      <td>SimSiam</td>\n",
       "      <td>ThroughGate</td>\n",
       "      <td>MSELoss</td>\n",
       "      <td>CutoffGate</td>\n",
       "      <td>SSLLoss</td>\n",
       "      <td>resnet18</td>\n",
       "      <td>BarlowTwins</td>\n",
       "      <td>RUNNING</td>\n",
       "    </tr>\n",
       "  </tbody>\n",
       "</table>\n",
       "</div>"
      ],
      "text/plain": [
       "   number value             datetime_start datetime_complete duration  \\\n",
       "0       0  None 2024-03-30 15:10:18.651981              None     None   \n",
       "\n",
       "  params_0_0_gate params_0_0_loss params_0_1_gate params_0_1_loss  \\\n",
       "0      CutoffGate         SSLLoss      CutoffGate         MSELoss   \n",
       "\n",
       "  params_0_model params_0_ssl params_1_0_gate params_1_0_loss params_1_1_gate  \\\n",
       "0       resnet18      SimSiam     ThroughGate         MSELoss      CutoffGate   \n",
       "\n",
       "  params_1_1_loss params_1_model params_1_ssl    state  \n",
       "0         SSLLoss       resnet18  BarlowTwins  RUNNING  "
      ]
     },
     "execution_count": 15,
     "metadata": {},
     "output_type": "execute_result"
    }
   ],
   "source": [
    "sorted_df"
   ]
  },
  {
   "cell_type": "code",
   "execution_count": 16,
   "metadata": {},
   "outputs": [
    {
     "data": {
      "image/svg+xml": [
       "<?xml version=\"1.0\" encoding=\"UTF-8\" standalone=\"no\"?>\n",
       "<!DOCTYPE svg PUBLIC \"-//W3C//DTD SVG 1.1//EN\"\n",
       " \"http://www.w3.org/Graphics/SVG/1.1/DTD/svg11.dtd\">\n",
       "<!-- Generated by graphviz version 2.43.0 (0)\n",
       " -->\n",
       "<!-- Title: %3 Pages: 1 -->\n",
       "<svg width=\"147pt\" height=\"148pt\"\n",
       " viewBox=\"0.00 0.00 146.59 147.74\" xmlns=\"http://www.w3.org/2000/svg\" xmlns:xlink=\"http://www.w3.org/1999/xlink\">\n",
       "<g id=\"graph0\" class=\"graph\" transform=\"scale(1 1) rotate(0) translate(4 143.74)\">\n",
       "<title>%3</title>\n",
       "<polygon fill=\"white\" stroke=\"transparent\" points=\"-4,4 -4,-143.74 142.59,-143.74 142.59,4 -4,4\"/>\n",
       "<!-- 1. resnet18\n",
       "SimSiam -->\n",
       "<g id=\"node1\" class=\"node\">\n",
       "<title>1. resnet18\n",
       "SimSiam</title>\n",
       "<ellipse fill=\"lightblue\" stroke=\"lightblue\" cx=\"69.3\" cy=\"-112.87\" rx=\"69.09\" ry=\"26.74\"/>\n",
       "<text text-anchor=\"middle\" x=\"69.3\" y=\"-116.67\" font-family=\"Times,serif\" font-size=\"14.00\">1. resnet18</text>\n",
       "<text text-anchor=\"middle\" x=\"69.3\" y=\"-101.67\" font-family=\"Times,serif\" font-size=\"14.00\">SimSiam</text>\n",
       "</g>\n",
       "<!-- 2. resnet18 -->\n",
       "<g id=\"node2\" class=\"node\">\n",
       "<title>2. resnet18</title>\n",
       "<ellipse fill=\"#e5e5e5\" stroke=\"#e5e5e5\" cx=\"69.3\" cy=\"-18\" rx=\"63.89\" ry=\"18\"/>\n",
       "<text text-anchor=\"middle\" x=\"69.3\" y=\"-14.3\" font-family=\"Times,serif\" font-size=\"14.00\">2. resnet18</text>\n",
       "</g>\n",
       "<!-- 1. resnet18\n",
       "SimSiam&#45;&gt;2. resnet18 -->\n",
       "<g id=\"edge1\" class=\"edge\">\n",
       "<title>1. resnet18\n",
       "SimSiam&#45;&gt;2. resnet18</title>\n",
       "<path fill=\"none\" stroke=\"#33a02c\" d=\"M69.3,-85.51C69.3,-73.23 69.3,-58.63 69.3,-46.25\"/>\n",
       "<polygon fill=\"#33a02c\" stroke=\"#33a02c\" points=\"72.8,-46.05 69.3,-36.05 65.8,-46.05 72.8,-46.05\"/>\n",
       "<text text-anchor=\"middle\" x=\"100.8\" y=\"-57.6\" font-family=\"Times,serif\" font-size=\"13.00\" fill=\"#33a02c\">MSELoss</text>\n",
       "</g>\n",
       "</g>\n",
       "</svg>\n"
      ],
      "text/plain": [
       "<graphviz.graphs.Digraph at 0x7fd45bd99cf0>"
      ]
     },
     "metadata": {},
     "output_type": "display_data"
    }
   ],
   "source": [
    "top = 0\n",
    "top_series = sorted_df.iloc[top]\n",
    "models = sorted(list(filter(lambda x: \"model\" in x, top_series.keys())))\n",
    "ssls = sorted(list(filter(lambda x: \"ssl\" in x, top_series.keys())))\n",
    "\n",
    "gate_names_list = []\n",
    "for model_id, model in enumerate(models):\n",
    "    gate_names = []\n",
    "    for j, m in enumerate(models):\n",
    "        gate_name = top_series[f\"params_{model_id}_{j}_gate\"]\n",
    "        gate_names.append(gate_name)\n",
    "    gate_names_list.append(gate_names)\n",
    "\n",
    "edge_color = {\"SSLLoss\": \"10\", \"MSELoss\": \"4\", \"KLLoss\": \"2\"}\n",
    "\n",
    "G = Digraph(format=\"svg\")\n",
    "for model_id, model in enumerate(models):\n",
    "    color = \"pink\" if model_id == 0 else \"gray90\"\n",
    "    gate_name = top_series[f\"params_{model_id}_{model_id}_gate\"]\n",
    "    if gate_name == \"CutoffGate\" and not (\n",
    "        all(gate_name == \"CutoffGate\" for gate_name in gate_names_list[model_id])\n",
    "    ):\n",
    "        node_name = f\"{model_id+1}. {top_series[model]}\"\n",
    "    else:\n",
    "        node_name = f\"{model_id+1}. {top_series[model]}\\n{top_series[ssls[model_id]]}\"\n",
    "    G.node(node_name, color=color, fillcolor=color, style=\"filled\")\n",
    "    gate_names = []\n",
    "    loss_names = []\n",
    "    for j, m in enumerate(models):\n",
    "        gate_name = top_series[f\"params_{model_id}_{j}_gate\"]\n",
    "        loss_name = top_series[f\"params_{model_id}_{j}_loss\"]\n",
    "        gate_names.append(gate_name)\n",
    "        loss_names.append(loss_name)\n",
    "        if gate_name == \"CutoffGate\":\n",
    "            continue\n",
    "        g = top_series[f\"params_{j}_{j}_gate\"]\n",
    "        if g == \"CutoffGate\" and not (\n",
    "            all(gate_name == \"CutoffGate\" for gate_name in gate_names_list[j])\n",
    "        ):\n",
    "            n = f\"{j+1}. {top_series[m]}\"\n",
    "        else:\n",
    "            n = f\"{j+1}. {top_series[m]}\\n{top_series[ssls[j]]}\"\n",
    "        if model_id == j:\n",
    "            G.edge(\n",
    "                node_name,\n",
    "                node_name,\n",
    "                label=loss_name,\n",
    "                fontsize=\"13\",\n",
    "                fontcolor=edge_color[loss_name],\n",
    "                color=edge_color[loss_name],\n",
    "                colorscheme=\"paired12\",\n",
    "            )\n",
    "        else:\n",
    "            G.edge(\n",
    "                n,\n",
    "                node_name,\n",
    "                label=loss_name,\n",
    "                fontsize=\"13\",\n",
    "                fontcolor=edge_color[loss_name],\n",
    "                color=edge_color[loss_name],\n",
    "                colorscheme=\"paired12\",\n",
    "            )\n",
    "    if all(gate_name == \"CutoffGate\" for gate_name in gate_names):\n",
    "        G.node(node_name, color=\"lightblue\", fillcolor=\"lightblue\", style=\"filled\")\n",
    "display(G)"
   ]
  },
  {
   "cell_type": "code",
   "execution_count": null,
   "metadata": {},
   "outputs": [],
   "source": []
  }
 ],
 "metadata": {
  "kernelspec": {
   "display_name": "Python 3",
   "language": "python",
   "name": "python3"
  },
  "language_info": {
   "codemirror_mode": {
    "name": "ipython",
    "version": 3
   },
   "file_extension": ".py",
   "mimetype": "text/x-python",
   "name": "python",
   "nbconvert_exporter": "python",
   "pygments_lexer": "ipython3",
   "version": "3.10.12"
  }
 },
 "nbformat": 4,
 "nbformat_minor": 2
}
