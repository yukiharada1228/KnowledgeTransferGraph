{
 "cells": [
  {
   "cell_type": "code",
   "execution_count": 9,
   "metadata": {},
   "outputs": [
    {
     "data": {
      "text/plain": [
       "'resnet18'"
      ]
     },
     "execution_count": 9,
     "metadata": {},
     "output_type": "execute_result"
    }
   ],
   "source": [
    "models_name = [\"resnet18\", \"resnet34\", \"resnet50\"]\n",
    "models_name[0]"
   ]
  },
  {
   "cell_type": "code",
   "execution_count": 15,
   "metadata": {},
   "outputs": [
    {
     "data": {
      "text/plain": [
       "'ThroughGate'"
      ]
     },
     "execution_count": 15,
     "metadata": {},
     "output_type": "execute_result"
    }
   ],
   "source": [
    "gates_name = [\n",
    "    [\n",
    "        \"ThroughGate\",\n",
    "        \"CutoffGate\",\n",
    "        \"ThroughGate\",\n",
    "        \"CutoffGate\",\n",
    "        \"ThroughGate\",\n",
    "        \"CutoffGate\",\n",
    "        \"ThroughGate\",\n",
    "    ],\n",
    "    [\n",
    "        \"ThroughGate\",\n",
    "        \"CutoffGate\",\n",
    "        \"ThroughGate\",\n",
    "        \"CutoffGate\",\n",
    "        \"ThroughGate\",\n",
    "        \"CutoffGate\",\n",
    "        \"ThroughGate\",\n",
    "    ],\n",
    "    [\n",
    "        \"ThroughGate\",\n",
    "        \"CutoffGate\",\n",
    "        \"ThroughGate\",\n",
    "        \"CutoffGate\",\n",
    "        \"ThroughGate\",\n",
    "        \"CutoffGate\",\n",
    "        \"ThroughGate\",\n",
    "    ],\n",
    "    [\n",
    "        \"ThroughGate\",\n",
    "        \"CutoffGate\",\n",
    "        \"ThroughGate\",\n",
    "        \"CutoffGate\",\n",
    "        \"ThroughGate\",\n",
    "        \"CutoffGate\",\n",
    "        \"ThroughGate\",\n",
    "    ],\n",
    "    [\n",
    "        \"ThroughGate\",\n",
    "        \"CutoffGate\",\n",
    "        \"ThroughGate\",\n",
    "        \"CutoffGate\",\n",
    "        \"ThroughGate\",\n",
    "        \"CutoffGate\",\n",
    "        \"ThroughGate\",\n",
    "    ],\n",
    "    [\n",
    "        \"ThroughGate\",\n",
    "        \"CutoffGate\",\n",
    "        \"ThroughGate\",\n",
    "        \"CutoffGate\",\n",
    "        \"ThroughGate\",\n",
    "        \"CutoffGate\",\n",
    "        \"ThroughGate\",\n",
    "    ],\n",
    "    [\n",
    "        \"ThroughGate\",\n",
    "        \"CutoffGate\",\n",
    "        \"ThroughGate\",\n",
    "        \"CutoffGate\",\n",
    "        \"ThroughGate\",\n",
    "        \"CutoffGate\",\n",
    "        \"ThroughGate\",\n",
    "    ],\n",
    "]\n",
    "gates_name[0][0]"
   ]
  },
  {
   "cell_type": "code",
   "execution_count": 18,
   "metadata": {},
   "outputs": [
    {
     "data": {
      "text/plain": [
       "'SimCLR'"
      ]
     },
     "execution_count": 18,
     "metadata": {},
     "output_type": "execute_result"
    }
   ],
   "source": [
    "ssls_name = [\"SimCLR\", \"MoCo\", \"SimSiam\", \"BYOL\", \"SwAV\", \"BarlowTwins\", \"DINO\"]\n",
    "ssls_name[0]"
   ]
  },
  {
   "cell_type": "code",
   "execution_count": 19,
   "metadata": {},
   "outputs": [
    {
     "data": {
      "text/plain": [
       "'MSELoss'"
      ]
     },
     "execution_count": 19,
     "metadata": {},
     "output_type": "execute_result"
    }
   ],
   "source": [
    "kds_name = [\n",
    "    [\"MSELoss\", \"KLLoss\", \"MSELoss\", \"KLLoss\", \"MSELoss\", \"KLLoss\", \"MSELoss\"],\n",
    "    [\"MSELoss\", \"KLLoss\", \"MSELoss\", \"KLLoss\", \"MSELoss\", \"KLLoss\", \"MSELoss\"],\n",
    "    [\"MSELoss\", \"KLLoss\", \"MSELoss\", \"KLLoss\", \"MSELoss\", \"KLLoss\", \"MSELoss\"],\n",
    "    [\"MSELoss\", \"KLLoss\", \"MSELoss\", \"KLLoss\", \"MSELoss\", \"KLLoss\", \"MSELoss\"],\n",
    "    [\"MSELoss\", \"KLLoss\", \"MSELoss\", \"KLLoss\", \"MSELoss\", \"KLLoss\", \"MSELoss\"],\n",
    "    [\"MSELoss\", \"KLLoss\", \"MSELoss\", \"KLLoss\", \"MSELoss\", \"KLLoss\", \"MSELoss\"],\n",
    "    [\"MSELoss\", \"KLLoss\", \"MSELoss\", \"KLLoss\", \"MSELoss\", \"KLLoss\", \"MSELoss\"],\n",
    "]\n",
    "kds_name[0][0]"
   ]
  },
  {
   "cell_type": "code",
   "execution_count": 2,
   "metadata": {},
   "outputs": [
    {
     "name": "stderr",
     "output_type": "stream",
     "text": [
      "/tmp/ipykernel_3807405/3745500951.py:14: ExperimentalWarning: JournalStorage is experimental (supported from v3.1.0). The interface can change in the future.\n",
      "  storage = JournalStorage(JournalFileStorage(os.path.join(optuna_dir, \"optuna.log\")))\n",
      "[I 2024-04-03 13:45:36,879] Using an existing study with name 'dcl_7' instead of creating a new one.\n"
     ]
    }
   ],
   "source": [
    "# Import packages\n",
    "import os\n",
    "import optuna\n",
    "from graphviz import Digraph\n",
    "from optuna.storages import JournalFileStorage, JournalStorage\n",
    "from tensorboard.backend.event_processing.event_accumulator import EventAccumulator\n",
    "import numpy as np\n",
    "\n",
    "num_nodes = 7\n",
    "study_name = f\"dcl_{num_nodes}\"\n",
    "optuna_dir = f\"../optuna/{study_name}\"\n",
    "transforms = \"DINO\"\n",
    "projector = \"SwAV\"\n",
    "storage = JournalStorage(JournalFileStorage(os.path.join(optuna_dir, \"optuna.log\")))\n",
    "study = optuna.create_study(\n",
    "    storage=storage,\n",
    "    study_name=study_name,\n",
    "    load_if_exists=True,\n",
    ")\n",
    "\n",
    "study_df = study.trials_dataframe()\n",
    "complete_df = study_df[study_df.state == \"COMPLETE\"]\n",
    "sorted_df = complete_df.sort_values(by=\"value\", ascending=False)"
   ]
  },
  {
   "cell_type": "code",
   "execution_count": 5,
   "metadata": {},
   "outputs": [
    {
     "data": {
      "text/plain": [
       "'ThroughGate'"
      ]
     },
     "execution_count": 5,
     "metadata": {},
     "output_type": "execute_result"
    }
   ],
   "source": [
    "top = 0\n",
    "top_series = sorted_df.iloc[top]\n",
    "top_series[f\"params_{0}_{0}_gate\"]"
   ]
  },
  {
   "cell_type": "code",
   "execution_count": null,
   "metadata": {},
   "outputs": [],
   "source": []
  }
 ],
 "metadata": {
  "kernelspec": {
   "display_name": "Python 3",
   "language": "python",
   "name": "python3"
  },
  "language_info": {
   "codemirror_mode": {
    "name": "ipython",
    "version": 3
   },
   "file_extension": ".py",
   "mimetype": "text/x-python",
   "name": "python",
   "nbconvert_exporter": "python",
   "pygments_lexer": "ipython3",
   "version": "3.10.12"
  }
 },
 "nbformat": 4,
 "nbformat_minor": 2
}
