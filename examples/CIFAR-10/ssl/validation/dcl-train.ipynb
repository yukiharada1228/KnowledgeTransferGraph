{
 "cells": [
  {
   "cell_type": "code",
   "execution_count": 9,
   "metadata": {},
   "outputs": [
    {
     "data": {
      "text/plain": [
       "'resnet18'"
      ]
     },
     "execution_count": 9,
     "metadata": {},
     "output_type": "execute_result"
    }
   ],
   "source": [
    "models_name = [\"resnet18\", \"resnet34\", \"resnet50\"]\n",
    "models_name[0]"
   ]
  },
  {
   "cell_type": "code",
   "execution_count": 15,
   "metadata": {},
   "outputs": [
    {
     "data": {
      "text/plain": [
       "'ThroughGate'"
      ]
     },
     "execution_count": 15,
     "metadata": {},
     "output_type": "execute_result"
    }
   ],
   "source": [
    "gates_name = [\n",
    "    [\"ThroughGate\", \"CutoffGate\", \"ThroughGate\", \"CutoffGate\", \"ThroughGate\", \"CutoffGate\", \"ThroughGate\"],\n",
    "    [\"ThroughGate\", \"CutoffGate\", \"ThroughGate\", \"CutoffGate\", \"ThroughGate\", \"CutoffGate\", \"ThroughGate\"],\n",
    "    [\"ThroughGate\", \"CutoffGate\", \"ThroughGate\", \"CutoffGate\", \"ThroughGate\", \"CutoffGate\", \"ThroughGate\"],\n",
    "    [\"ThroughGate\", \"CutoffGate\", \"ThroughGate\", \"CutoffGate\", \"ThroughGate\", \"CutoffGate\", \"ThroughGate\"],\n",
    "    [\"ThroughGate\", \"CutoffGate\", \"ThroughGate\", \"CutoffGate\", \"ThroughGate\", \"CutoffGate\", \"ThroughGate\"],\n",
    "    [\"ThroughGate\", \"CutoffGate\", \"ThroughGate\", \"CutoffGate\", \"ThroughGate\", \"CutoffGate\", \"ThroughGate\"],\n",
    "    [\"ThroughGate\", \"CutoffGate\", \"ThroughGate\", \"CutoffGate\", \"ThroughGate\", \"CutoffGate\", \"ThroughGate\"],\n",
    "]\n",
    "gates_name[0][0]"
   ]
  },
  {
   "cell_type": "code",
   "execution_count": 18,
   "metadata": {},
   "outputs": [
    {
     "data": {
      "text/plain": [
       "'SimCLR'"
      ]
     },
     "execution_count": 18,
     "metadata": {},
     "output_type": "execute_result"
    }
   ],
   "source": [
    "ssls_name = [\"SimCLR\", \"MoCo\", \"SimSiam\", \"BYOL\", \"SwAV\", \"BarlowTwins\", \"DINO\"]\n",
    "ssls_name[0]"
   ]
  },
  {
   "cell_type": "code",
   "execution_count": 19,
   "metadata": {},
   "outputs": [
    {
     "data": {
      "text/plain": [
       "'MSELoss'"
      ]
     },
     "execution_count": 19,
     "metadata": {},
     "output_type": "execute_result"
    }
   ],
   "source": [
    "kds_name = [\n",
    "    [\"MSELoss\", \"KLLoss\", \"MSELoss\", \"KLLoss\", \"MSELoss\", \"KLLoss\", \"MSELoss\"],\n",
    "    [\"MSELoss\", \"KLLoss\", \"MSELoss\", \"KLLoss\", \"MSELoss\", \"KLLoss\", \"MSELoss\"],\n",
    "    [\"MSELoss\", \"KLLoss\", \"MSELoss\", \"KLLoss\", \"MSELoss\", \"KLLoss\", \"MSELoss\"],\n",
    "    [\"MSELoss\", \"KLLoss\", \"MSELoss\", \"KLLoss\", \"MSELoss\", \"KLLoss\", \"MSELoss\"],\n",
    "    [\"MSELoss\", \"KLLoss\", \"MSELoss\", \"KLLoss\", \"MSELoss\", \"KLLoss\", \"MSELoss\"],\n",
    "    [\"MSELoss\", \"KLLoss\", \"MSELoss\", \"KLLoss\", \"MSELoss\", \"KLLoss\", \"MSELoss\"],\n",
    "    [\"MSELoss\", \"KLLoss\", \"MSELoss\", \"KLLoss\", \"MSELoss\", \"KLLoss\", \"MSELoss\"],\n",
    "]\n",
    "kds_name[0][0]"
   ]
  },
  {
   "cell_type": "code",
   "execution_count": null,
   "metadata": {},
   "outputs": [],
   "source": []
  }
 ],
 "metadata": {
  "kernelspec": {
   "display_name": "Python 3",
   "language": "python",
   "name": "python3"
  },
  "language_info": {
   "codemirror_mode": {
    "name": "ipython",
    "version": 3
   },
   "file_extension": ".py",
   "mimetype": "text/x-python",
   "name": "python",
   "nbconvert_exporter": "python",
   "pygments_lexer": "ipython3",
   "version": "3.10.12"
  }
 },
 "nbformat": 4,
 "nbformat_minor": 2
}
